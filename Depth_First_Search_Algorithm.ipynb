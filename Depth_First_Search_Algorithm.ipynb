{
  "nbformat": 4,
  "nbformat_minor": 0,
  "metadata": {
    "colab": {
      "name": "Depth First Search Algorithm",
      "provenance": [],
      "authorship_tag": "ABX9TyODE0A7eiuY2ZuVsSaghHg6",
      "include_colab_link": true
    },
    "kernelspec": {
      "name": "python3",
      "display_name": "Python 3"
    },
    "language_info": {
      "name": "python"
    }
  },
  "cells": [
    {
      "cell_type": "markdown",
      "metadata": {
        "id": "view-in-github",
        "colab_type": "text"
      },
      "source": [
        "<a href=\"https://colab.research.google.com/github/bc0de0/LinearRegression/blob/main/Depth_First_Search_Algorithm.ipynb\" target=\"_parent\"><img src=\"https://colab.research.google.com/assets/colab-badge.svg\" alt=\"Open In Colab\"/></a>"
      ]
    },
    {
      "cell_type": "code",
      "execution_count": 2,
      "metadata": {
        "id": "sgwCGl54ZDBI"
      },
      "outputs": [],
      "source": [
        "graph = {'5':['3','7'],'3':['2','4'],'7':['8'],'2':[],'4':['8'],'8':[]}"
      ]
    },
    {
      "cell_type": "code",
      "source": [
        "visited = set()\n",
        "\n",
        "def dfs(graph, node, visited):\n",
        "  if node not in visited:\n",
        "    print(node)\n",
        "    visited.add(node)\n",
        "    for neighbour in graph[node]:\n",
        "      dfs(graph, neighbour, visited)\n",
        "\n",
        "print(\"the dfs for node 2 is: \")\n",
        "dfs(graph, '7', visited)\n"
      ],
      "metadata": {
        "colab": {
          "base_uri": "https://localhost:8080/"
        },
        "id": "fSRl5ZdvwX2I",
        "outputId": "82594200-9ca2-440c-ce99-290196fcf0e3"
      },
      "execution_count": 9,
      "outputs": [
        {
          "output_type": "stream",
          "name": "stdout",
          "text": [
            "the dfs for node 2 is: \n",
            "7\n",
            "8\n"
          ]
        }
      ]
    }
  ]
}